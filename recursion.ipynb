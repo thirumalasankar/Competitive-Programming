{
 "cells": [
  {
   "cell_type": "markdown",
   "metadata": {},
   "source": [
    "#recursion Examples"
   ]
  },
  {
   "cell_type": "code",
   "execution_count": 12,
   "metadata": {},
   "outputs": [
    {
     "name": "stdout",
     "output_type": "stream",
     "text": [
      "3\n",
      "onvf\n",
      "onvf\n",
      "onvf\n"
     ]
    }
   ],
   "source": [
    "def printname(n):\n",
    "    if n == 0:\n",
    "        return \n",
    "    print(\"onvf\")\n",
    "    n -= 1\n",
    "    printname(n)\n",
    "if __name__ == \"__main__\":\n",
    "    global n\n",
    "    n = int(input())\n",
    "    printname(n)"
   ]
  },
  {
   "cell_type": "code",
   "execution_count": 13,
   "metadata": {},
   "outputs": [
    {
     "name": "stdout",
     "output_type": "stream",
     "text": [
      "3\n",
      "hema\n",
      "hema\n",
      "hema\n"
     ]
    }
   ],
   "source": [
    "#back tracking\n",
    "def printname(n):\n",
    "    if n == 0:\n",
    "        return \n",
    "    n -= 1\n",
    "    printname(n)\n",
    "    print(\"hema\")\n",
    "if __name__ == \"__main__\":\n",
    "    global n\n",
    "    n = int(input())\n",
    "    printname(n)"
   ]
  },
  {
   "cell_type": "code",
   "execution_count": 14,
   "metadata": {},
   "outputs": [
    {
     "name": "stdout",
     "output_type": "stream",
     "text": [
      "5\n",
      "5 4 3 2 1 "
     ]
    }
   ],
   "source": [
    "#recursion to print n to 1\n",
    "def fn(n):\n",
    "    if n == 0:\n",
    "        return\n",
    "    print(n,end=\" \")\n",
    "    n -= 1\n",
    "    fn(n)\n",
    "if __name__==\"__main__\":\n",
    "    n = int(input())\n",
    "    fn(n)"
   ]
  },
  {
   "cell_type": "code",
   "execution_count": 17,
   "metadata": {},
   "outputs": [
    {
     "name": "stdout",
     "output_type": "stream",
     "text": [
      "4\n",
      "1 2 3 4 "
     ]
    }
   ],
   "source": [
    "#recursion to print 1 to n\n",
    "def fn(n,i):\n",
    "    if n < i:\n",
    "        return\n",
    "    print(i,end=\" \")\n",
    "    i += 1\n",
    "    fn(n,i)\n",
    "if __name__ == \"__main__\":\n",
    "    n = int(input())\n",
    "    fn(n,1)"
   ]
  },
  {
   "cell_type": "code",
   "execution_count": 21,
   "metadata": {},
   "outputs": [
    {
     "name": "stdout",
     "output_type": "stream",
     "text": [
      "5\n",
      "1 2 3 4 5 "
     ]
    }
   ],
   "source": [
    "#backtracking to print 1 to n\n",
    "def fn(n,i):\n",
    "    if i == 0:\n",
    "        return\n",
    "    i -= 1\n",
    "    fn(n,i)\n",
    "    print(i+1,end=\" \")\n",
    "if __name__ == \"__main__\":\n",
    "    n = int(input())\n",
    "    fn(n,n)"
   ]
  },
  {
   "cell_type": "code",
   "execution_count": 6,
   "metadata": {},
   "outputs": [
    {
     "name": "stdout",
     "output_type": "stream",
     "text": [
      "5\n",
      "15\n"
     ]
    }
   ],
   "source": [
    "#recursion to print sum pf 1 to n\n",
    "def fn(n):\n",
    "    if n == 0:\n",
    "        return 0\n",
    "    return n + fn(n-1)\n",
    "if __name__ == \"__main__\":\n",
    "    n = int(input())\n",
    "    print(fn(n))"
   ]
  },
  {
   "cell_type": "markdown",
   "metadata": {},
   "source": [
    "#recursion-->topDown approach  --> moves from ans to d base conditon\n",
    "steps to solve a recusrion problem\n",
    "1)try to represent the problem in terms of index.\n",
    "2)Do all possible stuffs on that particular index acc. to d problem statement provided.\n",
    "3)models are \n",
    "        --> all possible ans\n",
    "        --> count(all possible stuffs)\n",
    "        --> min(all possible ans)\n",
    "        --> max(all possible ans)"
   ]
  },
  {
   "cell_type": "code",
   "execution_count": 1,
   "metadata": {},
   "outputs": [
    {
     "name": "stdout",
     "output_type": "stream",
     "text": [
      "1 2 1\n",
      "3\n",
      "[1, 2]\n",
      "[2, 1]\n"
     ]
    }
   ],
   "source": [
    "#all possible Ways\n",
    "def subseqsum(ind, ds, s, su, c):\n",
    "    if ind == len(arr):\n",
    "        if s == su:\n",
    "            print(ds)\n",
    "        return \n",
    "    \n",
    "    #pick\n",
    "    ds.append(arr[ind])\n",
    "    s += arr[ind]\n",
    "    subseqsum(ind+1,ds,s,su,c)\n",
    "    ds.pop()\n",
    "    s -= arr[ind]\n",
    "    \n",
    "    #nonpick\n",
    "    subseqsum(ind+1,ds,s,su,c)\n",
    "if __name__ == \"__main__\":\n",
    "    arr = [int(el) for el in input().split()]\n",
    "    ds = []\n",
    "    su = int(input())\n",
    "    c = 0\n",
    "    s = 0\n",
    "    subseqsum(0,ds,s,su,c)"
   ]
  },
  {
   "cell_type": "code",
   "execution_count": 2,
   "metadata": {},
   "outputs": [
    {
     "name": "stdout",
     "output_type": "stream",
     "text": [
      "1 2 1\n",
      "3\n",
      "[1, 2]\n"
     ]
    }
   ],
   "source": [
    "#pickOne among all possible outcomes\n",
    "def subseqsum(ind, ds, s, su, c):\n",
    "    if ind == len(arr):\n",
    "        if s == su:\n",
    "            print(list(ds))\n",
    "            return True\n",
    "        return False\n",
    "    \n",
    "    #pick\n",
    "    ds.append(arr[ind])\n",
    "    s += arr[ind]\n",
    "    if subseqsum(ind+1,ds,s,su,c):\n",
    "        return True\n",
    "    ds.pop()\n",
    "    s -= arr[ind]\n",
    "    \n",
    "    #nonpick\n",
    "    if subseqsum(ind+1,ds,s,su,c):\n",
    "        return True\n",
    "    else:\n",
    "        return False\n",
    "if __name__ == \"__main__\":\n",
    "    arr = [int(el) for el in input().split()]\n",
    "    ds = []\n",
    "    su = int(input())\n",
    "    c = 0\n",
    "    s = 0\n",
    "    subseqsum(0,ds,s,su,c)"
   ]
  },
  {
   "cell_type": "code",
   "execution_count": 3,
   "metadata": {},
   "outputs": [
    {
     "name": "stdout",
     "output_type": "stream",
     "text": [
      "1 2 1\n",
      "3\n",
      "2\n"
     ]
    }
   ],
   "source": [
    "#countWays\n",
    "def subseqsum(ind, ds, s, su, c):\n",
    "    if ind == len(arr):\n",
    "        #condition satisfied\n",
    "        if s == su:\n",
    "            return 1\n",
    "        \n",
    "        #not satisfied\n",
    "        return 0\n",
    "    \n",
    "    #pick\n",
    "    ds.append(arr[ind])\n",
    "    s += arr[ind]\n",
    "    lf = subseqsum(ind+1,ds,s,su,c)\n",
    "    ds.pop()\n",
    "    s -= arr[ind]\n",
    "    \n",
    "    #nonpick\n",
    "    rf = subseqsum(ind+1,ds,s,su,c)\n",
    "    \n",
    "    return lf+rf\n",
    "if __name__ == \"__main__\":\n",
    "    arr = [int(el) for el in input().split()]\n",
    "    ds = []\n",
    "    su = int(input())\n",
    "    c = 0\n",
    "    s = 0\n",
    "    print(subseqsum(0,ds,s,su,c))"
   ]
  },
  {
   "cell_type": "code",
   "execution_count": 27,
   "metadata": {},
   "outputs": [
    {
     "name": "stdout",
     "output_type": "stream",
     "text": [
      "2 4 6 8\n",
      "8\n",
      "[[2, 2, 2, 2], [2, 2, 4], [2, 6], [4, 4], [8]]\n"
     ]
    }
   ],
   "source": [
    "#combinations sum--1\n",
    "#arr=[2,3,6,7], target = 7, ans = [[2,2,3], [7]]\n",
    "#contrains we can take each element any number of times\n",
    "def findCombinations(ind, arr, target, ds):\n",
    "    \n",
    "    #baseCase\n",
    "    if target == 0:\n",
    "        ans.append(list(ds))\n",
    "        return\n",
    "    if ind == len(arr):\n",
    "        return \n",
    "    \n",
    "    #pickCondition\n",
    "    if arr[ind] <= target:\n",
    "        ds.append(arr[ind])\n",
    "        findCombinations(ind, arr, target - arr[ind], ds)\n",
    "        ds.pop(len(ds)-1)\n",
    "    #print(ds)\n",
    "    \n",
    "    #nonPickCondition\n",
    "    findCombinations(ind+1,arr,target,ds)\n",
    "    \n",
    "if __name__ == \"__main__\":\n",
    "    arr = list(map(int,input().split())) \n",
    "    target = int(input())\n",
    "    ds = []\n",
    "    ans = []\n",
    "    findCombinations(0, arr, target, ds)\n",
    "    print(ans)"
   ]
  },
  {
   "cell_type": "code",
   "execution_count": 38,
   "metadata": {},
   "outputs": [
    {
     "name": "stdout",
     "output_type": "stream",
     "text": [
      "1 2 3 \n",
      "4\n",
      "[[1, 3]]\n"
     ]
    }
   ],
   "source": [
    "#combinations sum--1\n",
    "#arr=[2,3,6,7], target = 7, ans = [[7]]\n",
    "#contrains we can take each element only once\n",
    "def findCombinations(ind, arr, target, ds):\n",
    "    \n",
    "    #baseCase\n",
    "    if target == 0:\n",
    "        ans.append(list(ds))\n",
    "        return\n",
    "    if ind == len(arr):\n",
    "        return \n",
    "    \n",
    "    #pickCondition\n",
    "    if arr[ind] <= target:\n",
    "        ds.append(arr[ind])\n",
    "        findCombinations(ind+1, arr, target - arr[ind], ds)\n",
    "        ds.pop(len(ds)-1)\n",
    "    #print(ds)\n",
    "    \n",
    "    #nonPickCondition\n",
    "    findCombinations(ind+1,arr,target,ds)\n",
    "    \n",
    "if __name__ == \"__main__\":\n",
    "    arr = list(map(int,input().split())) \n",
    "    target = int(input())\n",
    "    ds = []\n",
    "    ans = []\n",
    "    findCombinations(0, arr, target, ds)\n",
    "    print(ans)"
   ]
  },
  {
   "cell_type": "code",
   "execution_count": 70,
   "metadata": {},
   "outputs": [
    {
     "name": "stdout",
     "output_type": "stream",
     "text": [
      "aabb\n",
      "[['a', 'a', 'b', 'b'], ['a', 'a', 'bb'], ['aa', 'b', 'b'], ['aa', 'bb']]\n"
     ]
    }
   ],
   "source": [
    "#find all palidromic substrigns of given string\n",
    "def func(ind, s, tmps, res):\n",
    "    def isPalindrome(string,ind,i):\n",
    "        lp = ind\n",
    "        rp = i\n",
    "        while lp < rp:\n",
    "            if string[lp] != string[rp]:\n",
    "                return False\n",
    "            lp += 1\n",
    "            rp -= 1\n",
    "        return True\n",
    "    if ind == len(s):\n",
    "        res.append(list(tmps))\n",
    "        return \n",
    "    for i in range(ind,len(s),1):\n",
    "        if isPalindrome(s,ind,i):\n",
    "            tmps.append(s[ind:i+1])\n",
    "            func(i+1, s, tmps, res)\n",
    "            tmps.pop()\n",
    "    #print(tmps)\n",
    "if __name__ ==\"__main__\":\n",
    "    s = input()\n",
    "    tmps = []\n",
    "    res =[]\n",
    "    func(0, s, tmps, res)\n",
    "    print(res)"
   ]
  },
  {
   "cell_type": "code",
   "execution_count": 88,
   "metadata": {},
   "outputs": [
    {
     "name": "stdout",
     "output_type": "stream",
     "text": [
      "3 1 2\n",
      "[3, 1, 2]\n",
      "[3, 1]\n",
      "[3, 2]\n",
      "[3]\n",
      "[1, 2]\n",
      "[1]\n",
      "[2]\n",
      "[]\n",
      "[[3, 1, 2], [3, 1], [3, 2], [3], [1, 2], [1], [2], []]\n"
     ]
    }
   ],
   "source": [
    "#generate powerset \n",
    "def powerSet(ind:int, tmp:list , res:list):\n",
    "    \n",
    "    #baseCondition\n",
    "    if ind == len(arr):\n",
    "        print(tmp)\n",
    "        res.append(list(tmp))\n",
    "        return \n",
    "    \n",
    "    #pickCondition\n",
    "    tmp.append(arr[ind])\n",
    "    powerSet(ind+1, tmp, res)\n",
    "    tmp.pop()\n",
    "    \n",
    "    #nonPickCondition\n",
    "    powerSet(ind+1, tmp, res)\n",
    "    \n",
    "if __name__ == \"__main__\":\n",
    "    arr = [int(ele) for ele in input().split()]\n",
    "    tmp = []\n",
    "    res = []\n",
    "    powerSet(0, tmp, res)\n",
    "    print(res)"
   ]
  },
  {
   "cell_type": "code",
   "execution_count": 10,
   "metadata": {},
   "outputs": [
    {
     "name": "stdout",
     "output_type": "stream",
     "text": [
      "3 1  2\n",
      "[3, 1, 2] -- 6\n",
      "[3, 1] -- 4\n",
      "[3, 2] -- 5\n",
      "[3] -- 3\n",
      "[1, 2] -- 3\n",
      "[1] -- 1\n",
      "[2] -- 2\n",
      "[] -- 0\n",
      "[[3, 1, 2], [3, 1], [3, 2], [3], [1, 2], [1], [2], []]\n"
     ]
    }
   ],
   "source": [
    "#generate subsetSum \n",
    "def subsetSum(ind:int, tmp:list , s:int, res:list):\n",
    "    \n",
    "    #baseCondition\n",
    "    if ind == len(arr):\n",
    "        print(f\"{tmp} -- {s}\")\n",
    "        res.append(list(tmp))\n",
    "        return \n",
    "    \n",
    "    #pickCondition\n",
    "    tmp.append(arr[ind])\n",
    "    s += arr[ind]\n",
    "    subsetSum(ind+1, tmp, s, res)\n",
    "    tmp.pop()\n",
    "    s -= arr[ind]\n",
    "    \n",
    "    #nonPickCondition\n",
    "    subsetSum(ind+1, tmp, s, res)\n",
    "    \n",
    "if __name__ == \"__main__\":\n",
    "    arr = [int(ele) for ele in input().split()]\n",
    "    tmp = []\n",
    "    res = []\n",
    "    subsetSum(0, tmp,0, res)\n",
    "    print(res)"
   ]
  },
  {
   "cell_type": "code",
   "execution_count": 16,
   "metadata": {},
   "outputs": [
    {
     "name": "stdout",
     "output_type": "stream",
     "text": [
      "1 2 2\n",
      "[[], [1], [1, 2], [1, 2, 2], [2], [2, 2]]\n"
     ]
    }
   ],
   "source": [
    "#generate subset2 with no duplicates and in sorted order\n",
    "def subset2(ind,a,ds,ans):\n",
    "    ans.append(list(ds))\n",
    "\n",
    "    #pickCondition\n",
    "    for i in range(ind,len(a)):\n",
    "        if i != ind and a[i] == a[i-1]:\n",
    "            continue;                        #eliminates duplicates\n",
    "        ds.append(a[i])\n",
    "        subset2(i+1,a,ds,ans)\n",
    "        ds.pop()\n",
    "    \n",
    "if __name__ == \"__main__\":\n",
    "    a = list(map(int,input().split()))\n",
    "    ds = []\n",
    "    ans = []\n",
    "    subset2(0,a,ds,ans)\n",
    "    print(ans)"
   ]
  },
  {
   "cell_type": "code",
   "execution_count": 85,
   "metadata": {},
   "outputs": [
    {
     "name": "stdout",
     "output_type": "stream",
     "text": [
      "4\n",
      "17\n",
      "3412\n"
     ]
    }
   ],
   "source": [
    "#kth permutations\n",
    "def kthPermutation(n,k):\n",
    "    fct = 1\n",
    "    numbers = []\n",
    "    for i in range(1,n,1):\n",
    "        fct = fct * i\n",
    "        numbers.append(i)\n",
    "    numbers.append(n)\n",
    "    kstr = \"\"\n",
    "    k -= 1\n",
    "    while True:\n",
    "        kstr+=str(numbers[int(k/fct)])\n",
    "        numbers.pop(int(k/fct))\n",
    "        if len(numbers)==0:\n",
    "            break\n",
    "        k = k % fct\n",
    "        fct = int(fct/len(numbers))\n",
    "    return kstr\n",
    "\n",
    "if __name__ == \"__main__\":\n",
    "    n = int(input())\n",
    "    k = int(input())\n",
    "    print(kthPermutation(n,k))"
   ]
  },
  {
   "cell_type": "code",
   "execution_count": 2,
   "metadata": {},
   "outputs": [
    {
     "name": "stdout",
     "output_type": "stream",
     "text": [
      "1 2 3\n",
      "[[1, 2, 3], [1, 3, 2], [2, 1, 3], [2, 3, 1], [3, 1, 2], [3, 2, 1]]\n"
     ]
    }
   ],
   "source": [
    "#all permutations using extra space\n",
    "\n",
    "def allPermutations(arr,ds,ans,flag):\n",
    "    if len(arr)==len(ds):\n",
    "        ans.append(list(ds))\n",
    "        return\n",
    "    for i in range(0,len(arr),1):\n",
    "        if flag[i] == False:\n",
    "            flag[i] = True\n",
    "            ds.append(arr[i])\n",
    "            allPermutations(arr,ds,ans,flag)\n",
    "            ds.pop()\n",
    "            flag[i] = False\n",
    "if __name__ ==\"__main__\":\n",
    "    arr = list(map(int,input().split()))\n",
    "    ds = []\n",
    "    ans = []\n",
    "    flag = [False for i in range(len(arr))]\n",
    "    allPermutations(arr,ds,ans,flag)\n",
    "    print(ans)"
   ]
  },
  {
   "cell_type": "code",
   "execution_count": 20,
   "metadata": {},
   "outputs": [
    {
     "name": "stdout",
     "output_type": "stream",
     "text": [
      "1 2 3\n",
      "[1, 2, 3] [1, 3, 2] [3, 1, 2] [3, 2, 1] [1, 2, 3] [1, 3, 2]\n"
     ]
    }
   ],
   "source": [
    "#all permutations wihtout using extra space\n",
    "\n",
    "def allPermutations(ind,arr,ds,ans):\n",
    "    if ind == len(arr):\n",
    "        ds = []\n",
    "        \n",
    "        for ele in arr:\n",
    "            ds.append(ele)\n",
    "        ans.append(list(ds))\n",
    "        return\n",
    "    \n",
    "    for i in range(ind,len(arr),1):\n",
    "        arr[i],arr[ind] = arr[ind],arr[i]\n",
    "        allPermutations(ind+1,arr,ds,ans)\n",
    "        arr[i],arr[ind] == arr[ind],arr[i]\n",
    "        \n",
    "if __name__ ==\"__main__\":\n",
    "    arr = list(map(int,input().split()))\n",
    "    ds = []\n",
    "    ans = []\n",
    "    allPermutations(0,arr,ds,ans)\n",
    "    print(*ans)"
   ]
  },
  {
   "cell_type": "code",
   "execution_count": 24,
   "metadata": {},
   "outputs": [
    {
     "name": "stdout",
     "output_type": "stream",
     "text": [
      "1 2 3\n",
      "1 2 3\n",
      "1 3 2\n",
      "2 1 3\n",
      "2 3 1\n",
      "3 1 2\n",
      "3 2 1\n"
     ]
    }
   ],
   "source": [
    "#all permutations\n",
    "def permutations(l):\n",
    "    size = len(l)\n",
    "    if size == 0:\n",
    "        yield []\n",
    "    elif size == 1:\n",
    "        yield l\n",
    "    else:\n",
    "        for i in range(size):\n",
    "            ele = l[i]\n",
    "            x = l[ :i] + l[i+1: ]\n",
    "            for p in permutations(x):\n",
    "                yield [ele]+p\n",
    "arr=[int(ele) for ele in input().split()]\n",
    "for lis in permutations(arr):\n",
    "    print(*lis)"
   ]
  },
  {
   "cell_type": "code",
   "execution_count": 3,
   "metadata": {},
   "outputs": [
    {
     "name": "stdout",
     "output_type": "stream",
     "text": [
      "4\n",
      "[['_' '_' 'Q' '_']\n",
      " ['Q' '_' '_' '_']\n",
      " ['_' '_' '_' 'Q']\n",
      " ['_' 'Q' '_' '_']]\n",
      "\n",
      "[['_' 'Q' '_' '_']\n",
      " ['_' '_' '_' 'Q']\n",
      " ['Q' '_' '_' '_']\n",
      " ['_' '_' 'Q' '_']]\n",
      "\n"
     ]
    }
   ],
   "source": [
    "#n queens\n",
    "import numpy as np\n",
    "def isSafe(row,col,board,n):\n",
    "    drow = row\n",
    "    dcol = col\n",
    "    while(row >=0 and col >=0):\n",
    "        if board[row][col] == \"Q\":\n",
    "            return False\n",
    "        row -= 1\n",
    "        col -= 1\n",
    "    \n",
    "    row = drow\n",
    "    col = dcol\n",
    "    while (col >= 0):\n",
    "        if board[row][col]==\"Q\":\n",
    "            return False\n",
    "        col -= 1\n",
    "        \n",
    "    row = drow\n",
    "    col = dcol\n",
    "    \n",
    "    while(row < n and col >= 0):\n",
    "        if board[row][col]==\"Q\":\n",
    "            return False\n",
    "        row += 1\n",
    "        col -= 1\n",
    "    return True\n",
    "\n",
    "def Nqueens(col,board,ans,n):\n",
    "    if col == n:\n",
    "        ans.append(np.array(board))\n",
    "        print(board)\n",
    "        print()\n",
    "        return\n",
    "    \n",
    "    for rw in range(0,n,1):\n",
    "        if isSafe(rw,col,board,n):\n",
    "            board[rw][col]=\"Q\"\n",
    "            Nqueens(col+1,board,ans,n)\n",
    "            board[rw][col]=\"_\"\n",
    "            \n",
    "if __name__ ==\"__main__\":\n",
    "    n = int(input())\n",
    "    ans = []\n",
    "    board = np.array([[\"_\"]*n]*n)\n",
    "    Nqueens(0,board,ans,n)"
   ]
  },
  {
   "cell_type": "code",
   "execution_count": 4,
   "metadata": {},
   "outputs": [
    {
     "name": "stdout",
     "output_type": "stream",
     "text": [
      "4\n",
      "[['_' '_' 'Q' '_']\n",
      " ['Q' '_' '_' '_']\n",
      " ['_' '_' '_' 'Q']\n",
      " ['_' 'Q' '_' '_']]\n",
      "\n",
      "[['_' 'Q' '_' '_']\n",
      " ['_' '_' '_' 'Q']\n",
      " ['Q' '_' '_' '_']\n",
      " ['_' '_' 'Q' '_']]\n",
      "\n"
     ]
    }
   ],
   "source": [
    "#n queens\n",
    "import numpy as np\n",
    "def Nqueens(col,board,ans,n,leftRow,upperD,lowerD):\n",
    "    if col == n:\n",
    "        ans.append(np.array(board))\n",
    "        print(board)\n",
    "        print()\n",
    "        return\n",
    "    \n",
    "    for row in range(0,n,1):\n",
    "        \n",
    "        #safe square condition\n",
    "        if leftRow[row] == 0 and lowerD[row+col]==0 and upperD[n-1+col-row]==0:\n",
    "            \n",
    "            board[row][col]=\"Q\" #placing queen\n",
    "            leftRow[row] = 1\n",
    "            lowerD[row+col] = 1\n",
    "            upperD[n-1+col-row] = 1\n",
    "            \n",
    "            Nqueens(col+1,board,ans,n,leftRow,upperD,lowerD) #moving to next column\n",
    "            \n",
    "            board[row][col]=\"_\" #backtracking removing placed queen\n",
    "            leftRow[row] = 0\n",
    "            lowerD[row+col] = 0\n",
    "            upperD[n-1+col-row] = 0\n",
    "            \n",
    "if __name__ ==\"__main__\":\n",
    "    n = int(input())\n",
    "    ans = []\n",
    "    board = np.array([[\"_\"]*n]*n)\n",
    "    leftRow = [0]*n\n",
    "    upperD = [0]*(2*n-1)\n",
    "    lowerD = [0]*(2*n-1)\n",
    "    Nqueens(0,board,ans,n,leftRow,upperD,lowerD)"
   ]
  },
  {
   "cell_type": "code",
   "execution_count": 5,
   "metadata": {},
   "outputs": [
    {
     "name": "stdout",
     "output_type": "stream",
     "text": [
      "8 3 5 4 1 6 9 2 7\n",
      "2 9 6 8 5 7 4 3 1\n",
      "4 1 7 2 9 3 6 5 8\n",
      "5 6 9 1 3 4 7 8 2\n",
      "1 2 3 6 7 8 5 4 9\n",
      "7 4 8 5 2 9 1 6 3\n",
      "6 5 2 7 8 1 3 9 4\n",
      "9 8 1 3 4 5 2 7 6\n",
      "3 7 4 9 6 2 8 1 5\n"
     ]
    }
   ],
   "source": [
    "#sudoko solver\n",
    "import numpy as np\n",
    "def isValid(board,row,col,ch):\n",
    "    for i in range(0,9,1):\n",
    "        if board[i][col]==ch:\n",
    "            return False\n",
    "        if board[row][i]==ch:\n",
    "            return False\n",
    "        if board[3*int(row/3)+int(i/3)][3*int(col/3)+int(i%3)]==ch:\n",
    "            return False\n",
    "    return True\n",
    "def solve(board):\n",
    "    for row in range(0,len(board),1):\n",
    "        for col in range(0,len(board[0]),1):\n",
    "            if board[row][col]==\"_\":\n",
    "                for i in range(1,9,1):\n",
    "                    if isValid(board,row,col,i):\n",
    "                        board[row][col] = i\n",
    "                        \n",
    "                        if solve(board)==True:\n",
    "                            return True\n",
    "                        \n",
    "                        else:\n",
    "                            board[row][col] = \"_\"\n",
    "                return False\n",
    "    return True\n",
    "if __name__ ==\"__main__\":\n",
    "    board = [[\"_\",\"_\",5,4,1,6,9,2,7],\n",
    " [2,9,6,8,5,7,4,3,1],\n",
    " [4,1,7,2,9,3,6,5,8],\n",
    " [5,6,9,1,3,4,7,8,2],\n",
    " [1,2,3,6,7,8,5,4,9],\n",
    " [7,4,8,5,2,9,1,6,3],\n",
    " [6,5,2,7,8,1,3,9,4],\n",
    " [9,8,1,3,4,5,2,7,6],\n",
    " [3,7,4,9,6,2,8,1,\"_\"]]\n",
    "    solve(board)\n",
    "    for i in range(len(board)):\n",
    "        print(*board[i],sep=\" \")"
   ]
  },
  {
   "cell_type": "code",
   "execution_count": 6,
   "metadata": {},
   "outputs": [
    {
     "name": "stdout",
     "output_type": "stream",
     "text": [
      "no of nodes4\n",
      "no of edges4\n",
      "no of colors2\n",
      "0 1\n",
      "1 2\n",
      "2 3\n",
      "3 0\n",
      "True\n"
     ]
    }
   ],
   "source": [
    "#graph coloring problem\n",
    "from collections import defaultdict\n",
    "graph = defaultdict(list)\n",
    "\n",
    "def addEdge(graph,u,v):\n",
    "    graph[u].append(v)\n",
    "    graph[v].append(u)\n",
    "\n",
    "def isSafe(graph,node,color,colr):\n",
    "    for neighbours in graph['node']:\n",
    "        if color[int(neighbors)] == colr:\n",
    "            return False\n",
    "    return True\n",
    "\n",
    "def mcoloringProb(graph,node,color,n,m):\n",
    "    if node == n:\n",
    "        return True\n",
    "    for i in range(1,m+1,1):\n",
    "        if isSafe(graph,node,color,i):\n",
    "            color[node] = i\n",
    "            if mcoloringProb(graph,node+1,color,n,m) == True:\n",
    "                return True\n",
    "            color[node] = 0\n",
    "    return False\n",
    "\n",
    "if __name__==\"__main__\":\n",
    "    n = int(input(\"no of nodes\"))\n",
    "    nedges = int(input(\"no of edges\"))\n",
    "    m = int(input(\"no of colors\"))\n",
    "    for i in range(nedges):\n",
    "        edge = input().split()\n",
    "        addEdge(graph,edge[0],edge[1])\n",
    "    color = [0]*(n)\n",
    "    print(mcoloringProb(graph,0,color,n,m))"
   ]
  },
  {
   "cell_type": "code",
   "execution_count": 7,
   "metadata": {},
   "outputs": [
    {
     "name": "stdout",
     "output_type": "stream",
     "text": [
      "['DDRDRR', 'DRDDRR']\n"
     ]
    }
   ],
   "source": [
    "#rat in a maze #backtracking #recursion #lexicographical order (DLRU)\n",
    "class Solution:\n",
    "    def findPath(self, m, n):\n",
    "        if(m[0][0] == 0 or m[n - 1][n - 1] == 0):\n",
    "            return []\n",
    "            \n",
    "        vis = [[0] * n for _ in range(n)]\n",
    "        drow = [1, 0, 0, -1]\n",
    "        dcol = [0, -1, 1, 0]\n",
    "        ans = []\n",
    "        \n",
    "        vis[0][0] = 1\n",
    "        \n",
    "        self.findPathUtil(0, 0, m, n, drow, dcol, vis, ans)\n",
    "        return ans\n",
    "        \n",
    "    def findPathUtil(self, r, c, m, n, drow, dcol, vis, ans, path = ''):\n",
    "        if(r == n - 1 and c == n - 1):\n",
    "            ans.append(path)\n",
    "            return\n",
    "        \n",
    "        dir = 'DLRU'\n",
    "        for i in range(4):\n",
    "            dr = r + drow[i]\n",
    "            dc = c + dcol[i]\n",
    "            \n",
    "            if(dr >= 0 and dr < n and dc >= 0 and dc < n and m[dr][dc] == 1 and vis[dr][dc] == 0):\n",
    "                vis[dr][dc] = 1\n",
    "                self.findPathUtil(dr, dc, m, n, drow, dcol, vis, ans, path + dir[i])\n",
    "                vis[dr][dc] = 0\n",
    "                \n",
    "                \n",
    "if __name__==\"__main__\":\n",
    "    a = [[1,0,0,0],[1,1,0,1],[1,1,0,0],[0,1,1,1]]\n",
    "    n = len(a)\n",
    "    obj = Solution()\n",
    "    print(obj.findPath(a,n))"
   ]
  }
 ],
 "metadata": {
  "kernelspec": {
   "display_name": "Python 3",
   "language": "python",
   "name": "python3"
  },
  "language_info": {
   "codemirror_mode": {
    "name": "ipython",
    "version": 3
   },
   "file_extension": ".py",
   "mimetype": "text/x-python",
   "name": "python",
   "nbconvert_exporter": "python",
   "pygments_lexer": "ipython3",
   "version": "3.8.3"
  }
 },
 "nbformat": 4,
 "nbformat_minor": 4
}
