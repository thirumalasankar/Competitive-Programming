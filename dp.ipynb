{
 "cells": [
  {
   "cell_type": "code",
   "execution_count": 9,
   "metadata": {},
   "outputs": [
    {
     "name": "stdout",
     "output_type": "stream",
     "text": [
      "5\n",
      "5\n"
     ]
    }
   ],
   "source": [
    "#recursion(top-Down Approach) - we have overlapping subproblems leads to exponential timeComplexity\n",
    "def fib(n):\n",
    "    if n <= 1:                           #basecase\n",
    "        return n\n",
    "    else:\n",
    "        return fib(n-1) + fib(n-2)       #recursiveCalls\n",
    "n = int(input())\n",
    "print(fib(n))\n",
    "\n",
    "#tc -> 2 pow n\n",
    "#sc -> recursivestackspace --> n"
   ]
  },
  {
   "cell_type": "code",
   "execution_count": 3,
   "metadata": {},
   "outputs": [
    {
     "name": "stdout",
     "output_type": "stream",
     "text": [
      "6\n",
      "8\n"
     ]
    }
   ],
   "source": [
    "#in recursion we have overlapping subproblems thts y we go with dp(memoization)\n",
    "#Dp - memoization(top-Down Approach) from ans to base case \n",
    "#rules -->\n",
    "    # 1) declare a dp array of size to store all subproblems \n",
    "    # 2) whatever is the ans to d subprob store it in dp\n",
    "    # 3) check if the subprob ans solved previously \n",
    "\n",
    "def fibm(n):\n",
    "    if n <= 1:\n",
    "        dp[n] = n\n",
    "        return dp[n]\n",
    "    if dp[n] != -1:\n",
    "        return dp[n]\n",
    "    else:\n",
    "        dp[n] = fibm(n-1) + fibm(n-2)\n",
    "        return dp[n]\n",
    "n = int(input())\n",
    "dp = [-1] * (n+1)\n",
    "print(fibm(n))\n",
    "#tc --> n\n",
    "#sc --> (recursivestackspace)n + n  "
   ]
  },
  {
   "cell_type": "code",
   "execution_count": 30,
   "metadata": {},
   "outputs": [
    {
     "name": "stdout",
     "output_type": "stream",
     "text": [
      "5\n",
      "5\n"
     ]
    }
   ],
   "source": [
    "#dp --Tabulation(bottomUP Approach) from base case to required ans\n",
    "def fibt(n):\n",
    "    dp = [-1] * (n+1)\n",
    "    dp[0] = 0\n",
    "    dp[1] = 1\n",
    "    for i in range(2,n+1,1):\n",
    "        dp[i] = dp[i-1] + dp[i-2]\n",
    "    return dp[n]\n",
    "n = int(input())\n",
    "print(fibt(n))\n",
    "\n",
    "#tc --> n\n",
    "#sc --> n"
   ]
  },
  {
   "cell_type": "code",
   "execution_count": 5,
   "metadata": {},
   "outputs": [
    {
     "name": "stdout",
     "output_type": "stream",
     "text": [
      "5\n",
      "5\n"
     ]
    }
   ],
   "source": [
    "#trying to optimise the space of above code(final optimised sol interviewer expects this sol)\n",
    "def fibt(n):\n",
    "    if n == 0:\n",
    "        return 0\n",
    "    prev1 = 1\n",
    "    prev2 = 0\n",
    "    for i in range(2,n+1,1):\n",
    "        cur = prev1 + prev2\n",
    "        prev2 = prev1\n",
    "        prev1 = cur\n",
    "    return prev1\n",
    "n = int(input())\n",
    "print(fibt(n))\n",
    "\n",
    "#tc -- > n\n",
    "#sc -- > 1"
   ]
  },
  {
   "cell_type": "code",
   "execution_count": 1,
   "metadata": {},
   "outputs": [
    {
     "name": "stdout",
     "output_type": "stream",
     "text": [
      "abcdef\n",
      "adf\n",
      "3\n"
     ]
    }
   ],
   "source": [
    "#longest common subsequence\n",
    "#tabulation method \n",
    "def lcs(s1,s2,m,n):\n",
    "    dp = [[0 for i in range(n+1)] for j in range(m+1)]\n",
    "    for i in range(m+1):\n",
    "        for j in range(n+1):\n",
    "            if i == 0 or j == 0:\n",
    "                dp[i][j] = 0\n",
    "            elif s1[i-1] == s2[j-1]:\n",
    "                dp[i][j] = dp[i-1][j-1] + 1\n",
    "            else:\n",
    "                dp[i][j] = max(dp[i-1][j],dp[i][j-1])\n",
    "    return dp[m][n]\n",
    "s1 = input()\n",
    "s2 = input()\n",
    "m = len(s1)\n",
    "n = len(s2)\n",
    "print(lcs(s1,s2,m,n))"
   ]
  },
  {
   "cell_type": "code",
   "execution_count": 2,
   "metadata": {},
   "outputs": [
    {
     "name": "stdout",
     "output_type": "stream",
     "text": [
      "abcbf\n",
      "3\n"
     ]
    }
   ],
   "source": [
    "# longest Palindromic subsequence\n",
    "# tabulation\n",
    "def lps(s1,s2,m,n):\n",
    "    dp = [[0 for i in range(n+1)] for j in range(m+1)]\n",
    "    for i in range(m+1):\n",
    "        for j in range(n+1):\n",
    "            if i == 0 or j == 0:\n",
    "                dp[i][j] = 0\n",
    "            elif s1[i-1] == s2[j-1]:\n",
    "                dp[i][j] = dp[i-1][j-1] + 1\n",
    "            else:\n",
    "                dp[i][j] = max(dp[i-1][j],dp[i][j-1])\n",
    "    return dp[m][n]\n",
    "s1 = input()\n",
    "s2 = s1[::-1]\n",
    "m = len(s1)\n",
    "n = len(s2)\n",
    "print(lps(s1,s2,m,n))"
   ]
  },
  {
   "cell_type": "code",
   "execution_count": 4,
   "metadata": {},
   "outputs": [
    {
     "name": "stdout",
     "output_type": "stream",
     "text": [
      "abcd\n",
      "3\n"
     ]
    }
   ],
   "source": [
    "#number of min insertions to make a string palindrome\n",
    "#tabulation method dp\n",
    "def lps(s1,s2,m,n):\n",
    "    dp = [[0 for i in range(n+1)] for j in range(m+1)]\n",
    "    for i in range(m+1):\n",
    "        for j in range(n+1):\n",
    "            if i == 0 or j == 0:\n",
    "                dp[i][j] = 0\n",
    "            elif s1[i-1] == s2[j-1]:\n",
    "                dp[i][j] = dp[i-1][j-1] + 1\n",
    "            else:\n",
    "                dp[i][j] = max(dp[i-1][j],dp[i][j-1])\n",
    "    return dp[m][n]\n",
    "s = input()\n",
    "rs = s[::-1]\n",
    "lps = lps(s, rs, len(s), len(rs))\n",
    "print(len(s) - lps)"
   ]
  },
  {
   "cell_type": "code",
   "execution_count": 5,
   "metadata": {},
   "outputs": [
    {
     "name": "stdout",
     "output_type": "stream",
     "text": [
      "abc\n",
      "bd\n",
      "3\n"
     ]
    }
   ],
   "source": [
    "#minimum number of insertions/delitions to convert a string to another string\n",
    "#tabulation method dp\n",
    "def lcs(s1,s2,m,n):\n",
    "    dp = [[0 for i in range(n+1)] for j in range(m+1)]\n",
    "    for i in range(m+1):\n",
    "        for j in range(n+1):\n",
    "            if i==0 or j==0:\n",
    "                dp[i][j] = 0\n",
    "            elif s1[i-1] == s2[j-1]:\n",
    "                dp[i][j] = dp[i-1][j-1] + 1\n",
    "            else:\n",
    "                dp[i][j] = max(dp[i-1][j],dp[i][j-1])\n",
    "    return dp[m][n]\n",
    "s1 = input()\n",
    "s2 = input()\n",
    "m = len(s1)\n",
    "n = len(s2)\n",
    "# abc --> bd\n",
    "# minOperations = m - lcs(s1,s2,m,n) + n - lcs(s1,s2,m,n) ==>\n",
    "minOperations = m + n - 2 * lcs(s1,s2,m,n)\n",
    "print(minOperations)"
   ]
  }
 ],
 "metadata": {
  "kernelspec": {
   "display_name": "Python 3",
   "language": "python",
   "name": "python3"
  },
  "language_info": {
   "codemirror_mode": {
    "name": "ipython",
    "version": 3
   },
   "file_extension": ".py",
   "mimetype": "text/x-python",
   "name": "python",
   "nbconvert_exporter": "python",
   "pygments_lexer": "ipython3",
   "version": "3.8.3"
  }
 },
 "nbformat": 4,
 "nbformat_minor": 4
}
